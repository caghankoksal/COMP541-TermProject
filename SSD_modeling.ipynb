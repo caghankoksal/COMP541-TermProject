{
 "cells": [
  {
   "cell_type": "code",
   "execution_count": 1,
   "metadata": {},
   "outputs": [],
   "source": [
    "using Knet,CUDA,ArgParse, DataStructures\n"
   ]
  },
  {
   "cell_type": "code",
   "execution_count": 275,
   "metadata": {},
   "outputs": [
    {
     "data": {
      "text/plain": [
       "KnetArray{Float32,N} where N"
      ]
     },
     "execution_count": 275,
     "metadata": {},
     "output_type": "execute_result"
    }
   ],
   "source": [
    "atype = CUDA.functional() ? KnetArray{Float32} : Array{Float32}"
   ]
  },
  {
   "cell_type": "code",
   "execution_count": 284,
   "metadata": {},
   "outputs": [
    {
     "name": "stderr",
     "output_type": "stream",
     "text": [
      "WARNING: replacing module VGG.\n"
     ]
    },
    {
     "data": {
      "text/plain": [
       "Main.VGG"
      ]
     },
     "execution_count": 284,
     "metadata": {},
     "output_type": "execute_result"
    }
   ],
   "source": [
    "module VGG\n",
    "using Knet,CUDA,ArgParse, DataStructures\n",
    "include(Knet.dir(\"data\",\"imagenet.jl\"))\n",
    "\n",
    "#const vggurl = \"http://www.vlfeat.org/matconvnet/models/imagenet-vgg-verydeep-16.mat\"\n",
    "#check vgg.jl for original version\n",
    "const LAYER_TYPES = [\"conv\", \"relu\", \"pool\", \"fc\", \"prob\"]\n",
    "\n",
    "function main()\n",
    "    args = Dict()\n",
    "    \n",
    "    args[\"model\"] = \"imagenet-vgg-verydeep-16\"\n",
    "    args[\"top\"] = 5\n",
    "    args[\"atype\"] = CUDA.functional() ? KnetArray{Float32} : Array{Float32}\n",
    "    \n",
    "    atype = CUDA.functional() ? KnetArray{Float32} : Array{Float32}\n",
    "\n",
    "    vgg = matconvnet(args[\"model\"])\n",
    "    (params),ldict = get_params(vgg, atype)\n",
    "    \n",
    "    description = vgg[\"meta\"][\"classes\"][\"description\"]\n",
    "    averageImage = convert(Array{Float32},vgg[\"meta\"][\"normalization\"][\"averageImage\"])\n",
    "\n",
    "    \n",
    "    return vgg, params, description, averageImage, ldict\n",
    "end\n",
    "\n",
    "# This procedure makes pretrained MatConvNet VGG parameters convenient for Knet\n",
    "# Also, if you want to extract features, specify the last layer you want to use\n",
    "function get_params(CNN, atype; last_layer=\"prob\")\n",
    "    layers = CNN[\"layers\"]\n",
    "    weights, operations, derivatives = [], [], []\n",
    "    \n",
    "    \n",
    "    ldict = OrderedDict()\n",
    "    for l in layers\n",
    "        get_layer_type(x) = startswith(l[\"name\"], x)\n",
    "        operation = filter(x -> get_layer_type(x), LAYER_TYPES)[1]\n",
    "        push!(operations, operation)\n",
    "        push!(derivatives, haskey(l, \"weights\") && length(l[\"weights\"]) != 0)\n",
    "\n",
    "        if derivatives[end]\n",
    "            w = copy(l[\"weights\"])\n",
    "            if operation == \"conv\"\n",
    "                w[2] = reshape(w[2], (1,1,length(w[2]),1))\n",
    "            elseif operation == \"fc\"\n",
    "                w[1] = transpose(mat(w[1]))\n",
    "            end\n",
    "            push!(weights, w)\n",
    "            ldict[l[\"name\"]] = w\n",
    "        end\n",
    "\n",
    "        last_layer != nothing && get_layer_type(last_layer) && break\n",
    "    end\n",
    "\n",
    "    (map(w -> map(wi->convert(atype,wi), w), weights), operations, derivatives), ldict\n",
    "end\n",
    "\n",
    "\n",
    "end"
   ]
  },
  {
   "cell_type": "code",
   "execution_count": 285,
   "metadata": {},
   "outputs": [
    {
     "name": "stderr",
     "output_type": "stream",
     "text": [
      "┌ Info: Loading imagenet-vgg-verydeep-16.mat...\n",
      "└ @ Main.VGG /kuacc/users/ckoksal20/.julia/packages/Knet/OYNCT/data/imagenet.jl:12\n"
     ]
    }
   ],
   "source": [
    "vgg, params, description, averageImage, ld = VGG.main();"
   ]
  },
  {
   "cell_type": "code",
   "execution_count": 5,
   "metadata": {},
   "outputs": [
    {
     "data": {
      "text/plain": [
       "Base.KeySet for a OrderedDict{Any,Any} with 16 entries. Keys:\n",
       "  \"conv1_1\"\n",
       "  \"conv1_2\"\n",
       "  \"conv2_1\"\n",
       "  \"conv2_2\"\n",
       "  \"conv3_1\"\n",
       "  \"conv3_2\"\n",
       "  \"conv3_3\"\n",
       "  \"conv4_1\"\n",
       "  \"conv4_2\"\n",
       "  \"conv4_3\"\n",
       "  \"conv5_1\"\n",
       "  \"conv5_2\"\n",
       "  \"conv5_3\"\n",
       "  \"fc6\"\n",
       "  \"fc7\"\n",
       "  \"fc8\""
      ]
     },
     "execution_count": 5,
     "metadata": {},
     "output_type": "execute_result"
    }
   ],
   "source": [
    "keys(ld)"
   ]
  },
  {
   "cell_type": "code",
   "execution_count": 6,
   "metadata": {},
   "outputs": [
    {
     "data": {
      "text/plain": [
       "1×37 Array{String,2}:\n",
       " \"conv1_1\"  \"relu1_1\"  \"conv1_2\"  \"relu1_2\"  …  \"fc7\"  \"relu7\"  \"fc8\"  \"prob\""
      ]
     },
     "execution_count": 6,
     "metadata": {},
     "output_type": "execute_result"
    }
   ],
   "source": [
    "layers = [l[\"name\"] for l in vgg[\"layers\"]]"
   ]
  },
  {
   "cell_type": "code",
   "execution_count": 7,
   "metadata": {},
   "outputs": [
    {
     "data": {
      "text/plain": [
       "(3, 3, 64, 64)"
      ]
     },
     "execution_count": 7,
     "metadata": {},
     "output_type": "execute_result"
    }
   ],
   "source": [
    "#size(ld[\"conv1_2\"][1])"
   ]
  },
  {
   "cell_type": "code",
   "execution_count": 10,
   "metadata": {},
   "outputs": [],
   "source": [
    "# Define convolutional layer --> Trainable:\n",
    "struct Conv\n",
    "w \n",
    "b\n",
    "f\n",
    "pad\n",
    "ws\n",
    "conv_strd\n",
    "end\n",
    "Conv(w1, w2, nx, ny; f=sigm,pad=0,ws=2, conv_s =1) = Conv(param(w1,w2,nx,ny), param0(1,1,ny,1),f, pad, ws, conv_s)\n",
    "(c::Conv)(x) = c.f.(pool(conv4(c.w, x,padding=c.pad, stride = c.conv_strd) .+ c.b,window=c.ws))"
   ]
  },
  {
   "cell_type": "code",
   "execution_count": 11,
   "metadata": {},
   "outputs": [],
   "source": [
    "# Define dense layer:\n",
    "struct Dense; w; b; f; end\n",
    "Dense(i,o; f=identity) = Dense(param(o,i;atype=atype), param0(o,atype=atype), f)\n",
    "(d::Dense)(x) = d.f.(d.w * mat(x) .+ d.b)"
   ]
  },
  {
   "cell_type": "code",
   "execution_count": 12,
   "metadata": {},
   "outputs": [],
   "source": [
    "struct Chain; layers; end\n",
    "(c::Chain)(x) = (for l in c.layers; x = l(x); end; x)\n",
    "(c::Chain)(x,y) = nll(c(x),y)\n",
    "(c::Chain)(data::Knet.Train20.Data) = mean( c(x,y) for (x,y) in data)"
   ]
  },
  {
   "cell_type": "code",
   "execution_count": 13,
   "metadata": {},
   "outputs": [],
   "source": [
    "# VGG convolutions --> non trainable\n",
    "struct Conv_vgg \n",
    "w\n",
    "b\n",
    "f\n",
    "pad\n",
    "p_window_size\n",
    "ps # pool_stride\n",
    "dil\n",
    "pool_pad\n",
    "end\n",
    "Conv_vgg(w; f=sigm,pad=1,ws=2,ps=ws,dil=1,pool_p=0)  = Conv_vgg(atype(w[1]),atype(w[2]),f,pad,ws,ps,dil,pool_p)\n",
    "Conv_vgg(w,b; f=sigm,pad=1,ws=2,ps=ws,dil=1,pool_p=0)  = Conv_vgg(atype(w),atype(b),f,pad,ws,ps,dil,pool_p)\n",
    "(c::Conv_vgg)(x) = c.f.(pool(conv4(c.w, x,padding=c.pad,mode=1,dilation = c.dil) .+ c.b, window = c.p_window_size, padding=c.pool_pad,stride=c.ps));\n",
    "\n",
    "struct Dense_vgg\n",
    "w\n",
    "b\n",
    "f\n",
    "\n",
    "end\n",
    "Dense_vgg(w; f=sigm)  = Dense_vgg(atype(w[1]),atype(w[2]),f)\n",
    "(d::Dense_vgg)(x) = d.f.(  d.w * mat(x) + d.b);"
   ]
  },
  {
   "cell_type": "code",
   "execution_count": 104,
   "metadata": {},
   "outputs": [
    {
     "ename": "LoadError",
     "evalue": "invalid redefinition of constant PoolLayer",
     "output_type": "error",
     "traceback": [
      "invalid redefinition of constant PoolLayer",
      "",
      "Stacktrace:",
      " [1] top-level scope at In[104]:1",
      " [2] include_string(::Function, ::Module, ::String, ::String) at ./loading.jl:1091"
     ]
    }
   ],
   "source": [
    "struct PoolLayer\n",
    "mode\n",
    "end\n",
    "(p::PoolLayer)(x) = pool(x,mode=0)"
   ]
  },
  {
   "cell_type": "code",
   "execution_count": 14,
   "metadata": {},
   "outputs": [
    {
     "data": {
      "text/plain": [
       "decimate (generic function with 1 method)"
      ]
     },
     "execution_count": 14,
     "metadata": {},
     "output_type": "execute_result"
    }
   ],
   "source": [
    "function decimate(layer, m, atype )\n",
    "    \n",
    "    # Downsample by keeping every m'th value\n",
    "    # Used Converting Fully Connected layer to Convolutional Layer\n",
    "     \n",
    "    layer = Array(layer)\n",
    "    for d in 1:ndims(layer)\n",
    "        println(d)\n",
    "        if m[d] != nothing\n",
    "            layer = selectdim(layer,d, 1:m[d]:size(layer)[d])\n",
    "            #println(size(layer))\n",
    "        end\n",
    "    end\n",
    "    return atype(layer)\n",
    "end\n",
    "            \n",
    "    \n",
    "    "
   ]
  },
  {
   "cell_type": "code",
   "execution_count": 16,
   "metadata": {},
   "outputs": [
    {
     "data": {
      "text/plain": [
       "denseToConv (generic function with 1 method)"
      ]
     },
     "execution_count": 16,
     "metadata": {},
     "output_type": "execute_result"
    }
   ],
   "source": [
    "function denseToConv(dense_vgg_layer::Dense_vgg)\n",
    "    \n",
    "    # Authors converts FC6 FC7 layers to CONV layers ;\n",
    "    w = dense_vgg_layer.w\n",
    "    b = dense_vgg_layer.b\n",
    "    println(\"Before b size\",size(b))\n",
    "    \n",
    "    (n_output,n_input) = size(w)\n",
    "    \n",
    "    \n",
    "    if size(w) == (4096,25088) #FC()\n",
    "        #new_weights  = reshape(dense_vgg_layer.w,(n_output,512,7,7))  \n",
    "        \n",
    "        \n",
    "        new_weights = permutedims(reshape(dense_vgg_layer.w, (4096,512,7,7)),(3,4,2,1)) # shape (7,7,512,4096) \n",
    "        new_weights = decimate(new_weights, [3,3, nothing,4],atype )\n",
    "        \n",
    "        \n",
    "        new_bias = decimate(b,[4,nothing],atype)\n",
    "        new_bias = atype(reshape(Array(new_bias),(1,1,size(new_bias)[1],1)))\n",
    "        return Conv_vgg(new_weights,new_bias,pad=6,dil=6,ws=1)\n",
    "        \n",
    "        \n",
    "    elseif size(w) == (4096,4096)\n",
    "        new_weights = permutedims(reshape(dense_vgg_layer.w,(4096,4096,1,1)),(4,3,2,1))  # (1,1,4096,4096)\n",
    "        new_weights = decimate(new_weights, [nothing,nothing, 4,4],atype ) \n",
    "        new_bias = decimate(b, [4,nothing],atype)\n",
    "        new_bias = atype(reshape(Array(new_bias),(1,1,size(new_bias)[1],1)))\n",
    "        \n",
    "\n",
    "    end\n",
    "    #new_bias = reshape(new_bias, (1,1,size(new_bias)[1]),1 )\n",
    "    \n",
    "    #println(\"Before w size\",size(w))\n",
    "    #println(\"After w size : \",size(new_weights))\n",
    "    #println(\"Before b size\",size(b))\n",
    "    #println(\"After b size : \",size(new_bias))\n",
    "    \n",
    "    \n",
    "    # reshape Dense to \n",
    "    return Conv_vgg(new_weights,new_bias,ws=1,pad=0)\n",
    "    \n",
    "end"
   ]
  },
  {
   "cell_type": "code",
   "execution_count": 83,
   "metadata": {},
   "outputs": [
    {
     "data": {
      "text/plain": [
       "vgg_semiLayerRepresentation (generic function with 1 method)"
      ]
     },
     "execution_count": 83,
     "metadata": {},
     "output_type": "execute_result"
    }
   ],
   "source": [
    "# Extracting results of conv4_3 and conv7 layers\n",
    "function vgg_semiLayerRepresentation(x, c::Chain)\n",
    "    index = 1\n",
    "    conv_4_3_output = []\n",
    "    #ck = KnetArray(ck)\n",
    "    for l in c.layers\n",
    "        x = l(x)\n",
    "        if index == 10  #Conv4_3_layer_representation\n",
    "            #println(typeof(x))\n",
    "            conv_4_3_output =x\n",
    "        end\n",
    "        index +=1\n",
    "    end\n",
    "    \n",
    "    conv_7_output = x\n",
    "    return (conv_4_3_output, conv_7_output)\n",
    "end"
   ]
  },
  {
   "cell_type": "code",
   "execution_count": 108,
   "metadata": {},
   "outputs": [
    {
     "name": "stdout",
     "output_type": "stream",
     "text": [
      "Before b size(4096, 1)\n",
      "1\n",
      "2\n",
      "3\n",
      "4\n",
      "1\n",
      "2\n",
      "Before b size(4096, 1)\n",
      "1\n",
      "2\n",
      "3\n",
      "4\n",
      "1\n",
      "2\n"
     ]
    }
   ],
   "source": [
    "vgg16 = Chain((\n",
    "        #\"conv1_1 - relu1_1\" \n",
    "        Conv_vgg(vec(ld[\"conv1_1\"]), f=relu ,ws=1),\n",
    "        \n",
    "        #\"conv1_2 - relu1_2 pool1\"\n",
    "        Conv_vgg(vec(ld[\"conv1_2\"]), f=relu ,ws=2),\n",
    "        \n",
    "        # \"conv2_1\"  \"relu2_1\"\n",
    "        Conv_vgg(vec(ld[\"conv2_1\"]), f=relu ,ws=1),\n",
    "        \n",
    "        #conv2_2\"  \"relu2_2\"  \"pool2\"\n",
    "        Conv_vgg(vec(ld[\"conv2_2\"]), f=relu ,ws=2),\n",
    "        \n",
    "        #\"conv3_1\"  \"relu3_1\"\n",
    "        Conv_vgg(vec(ld[\"conv3_1\"]), f=relu ,ws=1),\n",
    "        \n",
    "        #\"conv3_2\"  \"relu3_2\n",
    "        Conv_vgg(vec(ld[\"conv3_2\"]), f=relu ,ws=1),\n",
    "        \n",
    "        #\"conv3_3\"  \"relu3_3\"  \"pool3\"  #\n",
    "        Conv_vgg(vec(ld[\"conv3_3\"]), f=relu ,ws=2,pool_p=1 ),\n",
    "        \n",
    "        #\"conv4_1\"  \"relu4_1\"\n",
    "        Conv_vgg(vec(ld[\"conv4_1\"]), f=relu ,ws=1),\n",
    "        \n",
    "        #\"conv4_2\"  \"relu4_2\"\n",
    "        Conv_vgg(vec(ld[\"conv4_2\"]), f=relu ,ws=1),\n",
    "        \n",
    "        #\"conv4_3\"  \"relu4_3\" pool4\"\n",
    "        Conv_vgg(vec(ld[\"conv4_3\"]), f=relu ,ws=1),\n",
    "        PoolLayer(0), \n",
    "        \n",
    "        #\"conv5_1\"  \"relu5_1\"\n",
    "        Conv_vgg(vec(ld[\"conv5_1\"]), f=relu ,ws=1),\n",
    "        \n",
    "        # \"conv5_2\"  \"relu5_2\"\n",
    "        Conv_vgg(vec(ld[\"conv5_2\"]), f=relu ,ws=1),\n",
    "        \n",
    "        #\"conv5_3\"  \"relu5_3\"  \"pool5\" \n",
    "        Conv_vgg(vec(ld[\"conv5_3\"]), f=relu ,ws=3,ps=1,pool_p=1), #Poolstride 1 not changing dim\n",
    " \n",
    "        #conv\n",
    "        denseToConv(Dense_vgg(vec(ld[\"fc6\"]) ,f=relu )),   #Conv_vgg(K32(3,3,512,1024) K32(1,1,1024,1) Knet.Ops20.sigm, 1, 2, 2, 1)\n",
    "        #\"fc6\"  \"relu6\"  \"fc8\"  \"prob\"\n",
    "          \n",
    "        denseToConv(Dense_vgg(vec(ld[\"fc7\"]) ,f=relu)),\n",
    "        ));\n"
   ]
  },
  {
   "cell_type": "code",
   "execution_count": 109,
   "metadata": {},
   "outputs": [
    {
     "data": {
      "text/plain": [
       "19×19×1024×1 KnetArray{Float32,4}:\n",
       "[:, :, 1, 1] =\n",
       " 0.615444  0.615537  0.615509  0.615486  …  0.614834  0.614829  0.614767\n",
       " 0.615785  0.615912  0.615864  0.615856     0.615166  0.615166  0.615085\n",
       " 0.61582   0.615966  0.615939  0.615986     0.615113  0.615128  0.615047\n",
       " 0.615778  0.615961  0.615927  0.616012     0.61507   0.615104  0.614979\n",
       " 0.615682  0.615938  0.615946  0.616041     0.614997  0.615033  0.614885\n",
       " 0.615741  0.61595   0.615942  0.616001  …  0.614946  0.614951  0.614845\n",
       " 0.616349  0.616537  0.616597  0.616554     0.615779  0.615789  0.615651\n",
       " 0.616636  0.616755  0.616733  0.616658     0.616011  0.616077  0.615948\n",
       " 0.61678   0.616878  0.616779  0.616708     0.616134  0.616235  0.616156\n",
       " 0.616982  0.617085  0.61696   0.616924     0.616223  0.616295  0.616246\n",
       " 0.616952  0.61711   0.616995  0.61695   …  0.616182  0.61618   0.616137\n",
       " 0.617065  0.617187  0.617021  0.616953     0.616071  0.61622   0.616219\n",
       " 0.616806  0.617045  0.616972  0.61688      0.61582   0.615988  0.616092\n",
       " 0.615962  0.616178  0.616141  0.616077     0.615551  0.615739  0.615904\n",
       " 0.616122  0.616247  0.616163  0.616129     0.615553  0.615759  0.615951\n",
       " 0.616152  0.616228  0.616131  0.616106  …  0.615651  0.615807  0.615954\n",
       " 0.616175  0.616179  0.616074  0.616047     0.615598  0.615799  0.615908\n",
       " 0.616234  0.616232  0.616152  0.616085     0.615715  0.615924  0.616019\n",
       " 0.615993  0.615975  0.615949  0.615819     0.615526  0.615743  0.615799\n",
       "\n",
       "[:, :, 2, 1] =\n",
       " 0.59573   0.5958    0.595682  0.595913  …  0.59531   0.595166  0.595051\n",
       " 0.595596  0.595802  0.595743  0.595914     0.595513  0.595313  0.595193\n",
       " 0.595539  0.595711  0.595795  0.595996     0.595386  0.595124  0.595006\n",
       " 0.595576  0.595724  0.595836  0.596016     0.595306  0.595086  0.595021\n",
       " 0.595607  0.595696  0.595816  0.596021     0.595095  0.594966  0.594925\n",
       " 0.595579  0.595672  0.595753  0.595931  …  0.59516   0.595019  0.594952\n",
       " 0.59708   0.59747   0.59746   0.597643     0.596277  0.596225  0.596017\n",
       " 0.597564  0.598092  0.598239  0.598435     0.596829  0.596617  0.596297\n",
       " 0.597662  0.598257  0.598459  0.598718     0.596822  0.596554  0.59619\n",
       " 0.59779   0.598334  0.598378  0.598499     0.596882  0.596634  0.596373\n",
       " 0.597649  0.598159  0.598182  0.598293  …  0.596916  0.596734  0.596547\n",
       " 0.597725  0.598077  0.597932  0.597932     0.596863  0.596862  0.596694\n",
       " 0.597431  0.597787  0.597581  0.597552     0.59688   0.59682   0.5966\n",
       " 0.59638   0.596666  0.596457  0.596497     0.59703   0.596812  0.59658\n",
       " 0.596338  0.596577  0.596325  0.596365     0.597098  0.596879  0.596644\n",
       " 0.596306  0.596575  0.596331  0.59637   …  0.597     0.596799  0.596589\n",
       " 0.596333  0.596597  0.596429  0.596395     0.596808  0.596689  0.596548\n",
       " 0.596629  0.596914  0.59679   0.596749     0.59678   0.596824  0.596623\n",
       " 0.596783  0.597074  0.59695   0.596878     0.596615  0.596651  0.596453\n",
       "\n",
       "[:, :, 3, 1] =\n",
       " 0.597963  0.597734  0.597735  0.597684  …  0.596814  0.596935  0.597165\n",
       " 0.597942  0.597695  0.597685  0.597617     0.596803  0.596942  0.597171\n",
       " 0.597925  0.597676  0.597678  0.59754      0.596859  0.596969  0.59717\n",
       " 0.597985  0.597734  0.597749  0.597608     0.596895  0.597018  0.597206\n",
       " 0.597946  0.597709  0.597713  0.597565     0.597043  0.597131  0.597335\n",
       " 0.597958  0.597685  0.597635  0.597526  …  0.597168  0.597242  0.597391\n",
       " 0.600489  0.600264  0.600162  0.600062     0.598334  0.598518  0.598707\n",
       " 0.600948  0.600708  0.600634  0.600554     0.598574  0.598776  0.598925\n",
       " 0.600653  0.600486  0.60033   0.600293     0.598444  0.598635  0.598793\n",
       " 0.600591  0.600519  0.600408  0.600393     0.598657  0.598807  0.598954\n",
       " 0.6005    0.600353  0.600264  0.600259  …  0.598559  0.598726  0.598854\n",
       " 0.600529  0.600414  0.600396  0.600359     0.59859   0.598669  0.598804\n",
       " 0.600724  0.600647  0.60073   0.600665     0.598744  0.598779  0.598852\n",
       " 0.601684  0.601663  0.601625  0.601505     0.599365  0.599391  0.599389\n",
       " 0.601758  0.601729  0.601738  0.601657     0.599393  0.599402  0.599442\n",
       " 0.601813  0.601777  0.601787  0.601794  …  0.599412  0.599489  0.599507\n",
       " 0.601718  0.601759  0.601889  0.601957     0.599293  0.599416  0.599483\n",
       " 0.601562  0.601715  0.601829  0.601978     0.599443  0.599504  0.599504\n",
       " 0.601476  0.601744  0.601894  0.602059     0.599697  0.599709  0.599629\n",
       "\n",
       "...\n",
       "\n",
       "[:, :, 1022, 1] =\n",
       " 0.573991  0.573865  0.57391   0.573942  …  0.574637  0.5745    0.574506\n",
       " 0.574091  0.57386   0.573737  0.57377      0.574314  0.574287  0.57444\n",
       " 0.574382  0.574047  0.57396   0.573969     0.57425   0.574311  0.574508\n",
       " 0.57427   0.573985  0.573883  0.573886     0.574152  0.574299  0.574518\n",
       " 0.574281  0.574026  0.573941  0.573942     0.574163  0.574312  0.574537\n",
       " 0.574308  0.573991  0.57388   0.573857  …  0.574223  0.574366  0.574576\n",
       " 0.575468  0.575191  0.575098  0.574974     0.57414   0.574339  0.574462\n",
       " 0.575749  0.575497  0.575464  0.575279     0.574177  0.574385  0.574548\n",
       " 0.575742  0.575538  0.575434  0.57526      0.574092  0.574295  0.57444\n",
       " 0.575832  0.575639  0.575479  0.575269     0.574045  0.574233  0.57442\n",
       " 0.575631  0.575462  0.575342  0.575219  …  0.574108  0.574249  0.574337\n",
       " 0.575577  0.575451  0.575323  0.575218     0.574166  0.574155  0.574238\n",
       " 0.575438  0.575356  0.575351  0.575238     0.574072  0.573983  0.574053\n",
       " 0.575936  0.575892  0.575945  0.575852     0.57398   0.573959  0.57397\n",
       " 0.575849  0.575758  0.575762  0.575689     0.573858  0.573927  0.573975\n",
       " 0.575819  0.575672  0.575631  0.575623  …  0.57382   0.573932  0.574019\n",
       " 0.575723  0.57554   0.575559  0.57558      0.573779  0.573967  0.574161\n",
       " 0.575531  0.575466  0.575497  0.575582     0.573524  0.573722  0.573946\n",
       " 0.575778  0.575799  0.575878  0.575953     0.573684  0.57381   0.573975\n",
       "\n",
       "[:, :, 1023, 1] =\n",
       " 0.59064   0.590656  0.590635  0.590715  …  0.590325  0.590364  0.590339\n",
       " 0.590878  0.591061  0.591101  0.591146     0.590603  0.590586  0.590547\n",
       " 0.590754  0.591005  0.591139  0.591228     0.590637  0.590591  0.59057\n",
       " 0.590607  0.59087   0.590993  0.591141     0.590639  0.590583  0.590601\n",
       " 0.590557  0.590774  0.590851  0.591047     0.590576  0.59053   0.590492\n",
       " 0.590593  0.590789  0.590886  0.591042  …  0.590673  0.590519  0.590435\n",
       " 0.591932  0.592263  0.592464  0.59254      0.591062  0.590783  0.590585\n",
       " 0.592215  0.592512  0.592728  0.592811     0.591024  0.590751  0.590497\n",
       " 0.592309  0.59261   0.592877  0.593001     0.59088   0.590724  0.590403\n",
       " 0.592306  0.59263   0.592905  0.593028     0.590851  0.590658  0.590364\n",
       " 0.592244  0.592607  0.5929    0.593033  …  0.590822  0.590679  0.590451\n",
       " 0.592298  0.592684  0.592966  0.593021     0.590653  0.59069   0.590474\n",
       " 0.592326  0.592812  0.593063  0.593044     0.590782  0.590731  0.590458\n",
       " 0.592822  0.593341  0.593489  0.593426     0.590523  0.590374  0.590185\n",
       " 0.592955  0.593429  0.593545  0.593491     0.590633  0.590479  0.590332\n",
       " 0.592949  0.59338   0.593447  0.593416  …  0.590583  0.590409  0.590259\n",
       " 0.592958  0.593345  0.593347  0.593324     0.590478  0.590383  0.590198\n",
       " 0.592944  0.593265  0.593289  0.593298     0.590259  0.590256  0.590114\n",
       " 0.592679  0.592934  0.592959  0.592969     0.589956  0.590067  0.589979\n",
       "\n",
       "[:, :, 1024, 1] =\n",
       " 0.489704  0.48999   0.489968  0.490006  …  0.490302  0.490319  0.490142\n",
       " 0.489758  0.490124  0.49011   0.490158     0.490362  0.490411  0.490232\n",
       " 0.489698  0.490015  0.490016  0.490135     0.49024   0.490255  0.490049\n",
       " 0.48979   0.490059  0.490041  0.490106     0.49027   0.490277  0.490054\n",
       " 0.489753  0.489992  0.489977  0.490068     0.490308  0.490279  0.490089\n",
       " 0.489751  0.48997   0.489925  0.489982  …  0.490264  0.49029   0.490128\n",
       " 0.490107  0.490349  0.490349  0.490403     0.48992   0.490006  0.489885\n",
       " 0.490286  0.490456  0.490391  0.490457     0.489773  0.489847  0.489758\n",
       " 0.490494  0.490606  0.490573  0.490647     0.49001   0.490067  0.489992\n",
       " 0.490488  0.490643  0.490625  0.4907       0.490033  0.490039  0.489907\n",
       " 0.490607  0.490824  0.49074   0.490751  …  0.490188  0.490208  0.490084\n",
       " 0.490703  0.490944  0.490845  0.490861     0.490247  0.49033   0.490254\n",
       " 0.490582  0.490733  0.490611  0.490582     0.489992  0.490125  0.490112\n",
       " 0.490068  0.490129  0.490032  0.489966     0.489487  0.489638  0.489702\n",
       " 0.4901    0.490161  0.490077  0.490047     0.489513  0.489663  0.489708\n",
       " 0.490103  0.490174  0.490104  0.490114  …  0.489585  0.489695  0.489653\n",
       " 0.490193  0.49027   0.490157  0.490078     0.48962   0.489702  0.489683\n",
       " 0.490401  0.490449  0.490262  0.490196     0.489953  0.49002   0.489951\n",
       " 0.490363  0.490399  0.490209  0.490124     0.489623  0.48971   0.489652"
      ]
     },
     "execution_count": 109,
     "metadata": {},
     "output_type": "execute_result"
    }
   ],
   "source": [
    "# Controling model output\n",
    "#x = atype(randn(Float32,(300,300,3,1)));\n",
    "#k = vgg16(x);\n",
    "#k\n"
   ]
  },
  {
   "cell_type": "code",
   "execution_count": 87,
   "metadata": {},
   "outputs": [
    {
     "name": "stdout",
     "output_type": "stream",
     "text": [
      "KnetArray{Float32,4}\n"
     ]
    },
    {
     "data": {
      "text/plain": [
       "(K32(19,19,512,1)[2.1879244⋯], K32(19,19,1024,1)[0.61555237⋯])"
      ]
     },
     "execution_count": 87,
     "metadata": {},
     "output_type": "execute_result"
    }
   ],
   "source": [
    "conv_5_3_feats,conv7_feats = vgg_semiLayerRepresentation(x,vgg16)"
   ]
  },
  {
   "cell_type": "code",
   "execution_count": 47,
   "metadata": {},
   "outputs": [],
   "source": []
  },
  {
   "cell_type": "code",
   "execution_count": 110,
   "metadata": {},
   "outputs": [
    {
     "data": {
      "text/plain": [
       "HighOrderFeatures (generic function with 1 method)"
      ]
     },
     "execution_count": 110,
     "metadata": {},
     "output_type": "execute_result"
    }
   ],
   "source": [
    "# Extra layers that are added to the VGG16 ---> SSD Heads\n",
    "function HighOrderFeatures(conv7_feats)\n",
    "    \n",
    "    #conv7_feats --> (19*19*1024)\n",
    "    \n",
    "    conv8_1 = Conv(1,1,1024,256,  pad=0, ws=1, f=relu);\n",
    "    conv8_2 = Conv(3,3, 256,512,  pad=1, conv_s=2, ws=1, f=relu);  # 10*10*512*1\n",
    "    conv9_1  = Conv(1,1, 512,128, pad=0, ws=1, f=relu);  # dim. reduction because stride > 1\n",
    "    conv9_2 = Conv(3,3, 128,256,  pad=1, conv_s=2, ws=1, f=relu);  # dim. reduction because stride > 1\n",
    "    \n",
    "    conv10_1 = Conv(1,1,256,128,pad=0,ws=1,f=relu);\n",
    "    conv10_2 = Conv(3,3,128,256, pad=0,ws=1, f=relu);\n",
    "    conv11_1 = Conv(1,1,256,128,ws=1, pad=0,f=relu);\n",
    "    conv11_2 = Conv(3,3,128,256,ws=1, pad=0,f=relu);\n",
    "    \n",
    "    \n",
    "    out = conv8_1(conv7_feats)\n",
    "    out = conv8_2(out)\n",
    "    conv8_2_feats = out\n",
    "    \n",
    "    out = conv9_1(out)\n",
    "    out = conv9_2(out)\n",
    "    conv9_2_feats = out\n",
    "    \n",
    "    \n",
    "    out = conv10_1(out)\n",
    "    out = conv10_2(out)\n",
    "    conv10_2_feats = out\n",
    "    \n",
    "    out = conv11_1(out)\n",
    "    out = conv11_2(out)\n",
    "    conv11_2_feats = out\n",
    "    \n",
    "    return conv8_2_feats, conv9_2_feats, conv10_2_feats, conv11_2_feats\n",
    "    #return out\n",
    "    \n",
    "end"
   ]
  },
  {
   "cell_type": "code",
   "execution_count": 111,
   "metadata": {},
   "outputs": [
    {
     "data": {
      "text/plain": [
       "(K32(10,10,512,1)[0.0⋯], K32(5,5,256,1)[0.0⋯], K32(3,3,256,1)[0.0⋯], K32(1,1,256,1)[0.008990341⋯])"
      ]
     },
     "execution_count": 111,
     "metadata": {},
     "output_type": "execute_result"
    }
   ],
   "source": [
    "conv8_2_feats, conv9_2_feats, conv10_2_feats, conv11_2_feats  =HighOrderFeatures(conv7_feats)"
   ]
  },
  {
   "cell_type": "code",
   "execution_count": 168,
   "metadata": {},
   "outputs": [
    {
     "data": {
      "text/plain": [
       "expectedShape (generic function with 1 method)"
      ]
     },
     "execution_count": 168,
     "metadata": {},
     "output_type": "execute_result"
    }
   ],
   "source": [
    "# Converting to the outputs to the number of SSD predefined filter number 8372 \n",
    "function expectedShape(layerlength, batch_size, expected_output)\n",
    "    \n",
    "    return Integer(layerlength/batch_size/expected_output),expected_output,batch_size\n",
    "    \n",
    "end"
   ]
  },
  {
   "cell_type": "code",
   "execution_count": 212,
   "metadata": {},
   "outputs": [
    {
     "data": {
      "text/plain": [
       "boundingBox_Location_Class_Predictions (generic function with 1 method)"
      ]
     },
     "execution_count": 212,
     "metadata": {},
     "output_type": "execute_result"
    }
   ],
   "source": [
    "function boundingBox_Location_Class_Predictions(x,vgg16)\n",
    "    \n",
    "    n_boxes = Dict(\n",
    "        \"conv4_3\" => 4,\n",
    "        \"conv7\" => 6,\n",
    "        \"conv8_2\" => 6,\n",
    "        \"conv9_2\" => 6,\n",
    "        \"conv10_2\" => 4,\n",
    "        \"conv11_2\" => 4)\n",
    "    \n",
    "    n_classes = 20 +1 # background\n",
    "    \n",
    "    batch_size = size(x)[end]\n",
    "    #println(\"Batch size : \",batch_size)\n",
    "    \n",
    "    #Lower dimension representations\n",
    "    conv4_3_feats,conv7_feats = vgg_semiLayerRepresentation(x,vgg16)#(19,19,512,1) #(19, 19, 1024, 1)\n",
    "    \n",
    "    #println(\"Size conv4_3_feats : \",size(conv4_3_feats))\n",
    "    #println(\"Size conv7_feats : \",size(conv7_feats))\n",
    "    \n",
    "    \n",
    "    conv8_2_feats, conv9_2_feats, conv10_2_feats, conv11_2_feats = HighOrderFeatures(conv7_feats)\n",
    "    \n",
    "    \n",
    "    # Localization prediction convolutions (predict offsets w.r.t prior-boxes)\n",
    "    loc_conv4_3 = Conv(3,3,512, n_boxes[\"conv4_3\"] * 4,  ws=1, pad=1)\n",
    "    \n",
    "    loc_conv7 = Conv(3,3,1024, n_boxes[\"conv7\"] * 4, ws=1,pad=1)\n",
    "    loc_conv8_2 = Conv(3,3,512, n_boxes[\"conv8_2\"] * 4, ws=1, pad=1)\n",
    "    loc_conv9_2 = Conv(3,3,256, n_boxes[\"conv9_2\"] * 4, ws=1, pad=1)\n",
    "    loc_conv10_2 = Conv(3,3,256, n_boxes[\"conv10_2\"] * 4, ws=1, pad=1)\n",
    "    loc_conv11_2 = Conv(3,3,256, n_boxes[\"conv11_2\"] * 4, ws=1, pad=1)\n",
    "\n",
    "    # Class prediction convolutions (predict classes in localization boxes)\n",
    "    cl_conv4_3 = Conv(3,3,512, n_boxes[\"conv4_3\"] * n_classes,  ws=1,pad=1)\n",
    "    \n",
    "    cl_conv7 = Conv(3,3,1024, n_boxes[\"conv7\"] * n_classes,  ws=1,pad=1)\n",
    "    cl_conv8_2 = Conv(3,3,512, n_boxes[\"conv8_2\"] * n_classes, ws=1, pad=1)\n",
    "    cl_conv9_2 = Conv(3,3,256, n_boxes[\"conv9_2\"] * n_classes,  ws=1, pad=1)\n",
    "    cl_conv10_2 = Conv(3,3,256, n_boxes[\"conv10_2\"] * n_classes, ws=1,  pad=1)\n",
    "    cl_conv11_2 = Conv(3,3,256, n_boxes[\"conv11_2\"] * n_classes, ws=1, pad=1)\n",
    "    \n",
    "    \n",
    "     # Predict localization boxes' bounds (as offsets w.r.t prior-boxes)  4 offsets: ∆cx, ∆cy, w and h\n",
    "    l_conv4_3 = loc_conv4_3(conv4_3_feats)  # (38, 38,16)\n",
    "    l_conv4_3 = reshape(l_conv4_3,  expectedShape(length(l_conv4_3),batch_size,4) )\n",
    "    \n",
    "    \n",
    "    l_conv7 = loc_conv7(conv7_feats)  # (19, 19, 24,1)\n",
    "    l_conv7 = reshape(l_conv7,  expectedShape(length(l_conv7),batch_size,4) )\n",
    "    \n",
    "    l_conv8_2 = loc_conv8_2(conv8_2_feats)  # (10, 10, 24, 1)\n",
    "    l_conv8_2 = reshape(l_conv8_2, expectedShape(length(l_conv8_2),batch_size,4)  )\n",
    "    \n",
    "    l_conv9_2 = loc_conv9_2(conv9_2_feats)  # (5, 5, 24, 1)\n",
    "    l_conv9_2 = reshape(l_conv9_2, expectedShape(length(l_conv9_2),batch_size,4) )\n",
    "    \n",
    "    l_conv10_2 = loc_conv10_2(conv10_2_feats)  # (3, 3, 16, 1)\n",
    "    l_conv10_2 = reshape(l_conv10_2, expectedShape(length(l_conv10_2),batch_size,4) )\n",
    "    \n",
    "    \n",
    "    l_conv11_2 = loc_conv11_2(conv11_2_feats)  # (1, 1, 16, 1)\n",
    "    l_conv11_2 = reshape(l_conv11_2, expectedShape(length(l_conv11_2),batch_size,4) )\n",
    "    \n",
    "    \n",
    "    \n",
    "    # Predict classes in localization boxes\n",
    "    c_conv4_3 = cl_conv4_3(conv4_3_feats)  # (38, 38, 4 * n_classes, 1) --> (38, 38, 84, 1)\n",
    "    c_conv4_3 = reshape(c_conv4_3, expectedShape(length(c_conv4_3),batch_size,n_classes) )\n",
    "    \n",
    "    c_conv7 = cl_conv7(conv7_feats)         # (19, 19, 6 * n_classes,1) -->  (19, 19, 126,1)\n",
    "    c_conv7 = reshape(c_conv7, expectedShape(length(c_conv7),batch_size,n_classes) )\n",
    "    \n",
    "    c_conv8_2 = cl_conv8_2(conv8_2_feats)  # (10, 10, 6 * n_classes, 1) --> (10,10,24,1)\n",
    "    c_conv8_2 = reshape(c_conv8_2, expectedShape(length(c_conv8_2),batch_size,n_classes) )\n",
    "    \n",
    "    c_conv9_2 = cl_conv9_2(conv9_2_feats)  # (5, 5, 6 * n_classes, 1)   --> (5,5,24,1)\n",
    "    c_conv9_2 = reshape(c_conv9_2, expectedShape(length(c_conv9_2),batch_size,n_classes) )\n",
    "        \n",
    "    c_conv10_2 = cl_conv10_2(conv10_2_feats)  # ( 3, 3, 4 * n_classes,1)-->  (5,5,16,1)\n",
    "    c_conv10_2 = reshape(c_conv10_2, expectedShape(length(c_conv10_2),batch_size,n_classes) )\n",
    "    \n",
    "    \n",
    "    c_conv11_2 = cl_conv11_2(conv11_2_feats)  # ( 1, 1,4 * n_classes,1) --> (1,1,16,1)\n",
    "    c_conv11_2 = reshape(c_conv11_2, expectedShape(length(c_conv11_2),batch_size,n_classes) )\n",
    "    \n",
    "    println(\"l_conv4_3:\",size(l_conv4_3))\n",
    "    println(\"c_conv4_3:\",size(c_conv4_3))\n",
    "    println()\n",
    "    \n",
    "    println(\"l_conv7:\",size(l_conv7))\n",
    "    println(\"c_conv7:\",size(c_conv7))\n",
    "    println()\n",
    "    \n",
    "    println(\"l_conv8_2:\",size(l_conv8_2))\n",
    "    println(\"c_conv8_2:\",size(c_conv8_2))\n",
    "    \n",
    "    println()\n",
    "    \n",
    "    println(\"l_conv9_2:\",size(l_conv9_2))\n",
    "    println(\"c_conv9_2:\",size(c_conv9_2))\n",
    "    \n",
    "    println()\n",
    "    \n",
    "    \n",
    "    println(\"l_conv10_2:\",size(l_conv10_2))\n",
    "    println(\"c_conv10_2:\",size(c_conv10_2))\n",
    "    println()\n",
    "    \n",
    "    println(\"l_conv11_2:\",size(l_conv11_2))\n",
    "    println(\"c_conv11_2:\",size(c_conv11_2))\n",
    "    \n",
    "    println()\n",
    "    \n",
    "    \n",
    "    \n",
    "    locs = vcat(l_conv4_3, l_conv7, l_conv8_2, l_conv9_2, l_conv10_2, l_conv11_2)  # (8732, 4,1)\n",
    "    classes_scores = vcat(c_conv4_3, c_conv7, c_conv8_2, c_conv9_2, c_conv10_2, c_conv11_2\n",
    "                                   )  # (8732, n_classes,1)\n",
    "    \n",
    "    return locs,classes_scores\n",
    "end\n",
    "    \n",
    "\n",
    "    "
   ]
  },
  {
   "cell_type": "code",
   "execution_count": 217,
   "metadata": {},
   "outputs": [],
   "source": [
    "#@doc vcat"
   ]
  },
  {
   "cell_type": "code",
   "execution_count": 214,
   "metadata": {},
   "outputs": [
    {
     "name": "stdout",
     "output_type": "stream",
     "text": [
      "Batch size : 1\n",
      "KnetArray{Float32,4}\n",
      "Size conv4_3_feats : (38, 38, 512, 1)\n",
      "Size conv7_feats : (19, 19, 1024, 1)\n",
      "l_conv4_3:(5776, 4, 1)\n",
      "c_conv4_3:(5776, 21, 1)\n",
      "\n",
      "l_conv7:(2166, 4, 1)\n",
      "c_conv7:(2166, 21, 1)\n",
      "\n",
      "l_conv8_2:(600, 4, 1)\n",
      "c_conv8_2:(600, 21, 1)\n",
      "\n",
      "l_conv9_2:(150, 4, 1)\n",
      "c_conv9_2:(150, 21, 1)\n",
      "\n",
      "l_conv10_2:(36, 4, 1)\n",
      "c_conv10_2:(36, 21, 1)\n",
      "\n",
      "l_conv11_2:(4, 4, 1)\n",
      "c_conv11_2:(4, 21, 1)\n",
      "\n"
     ]
    },
    {
     "data": {
      "text/plain": [
       "(K32(8732,4,1)[0.043867495⋯], K32(8732,21,1)[0.05549546⋯])"
      ]
     },
     "execution_count": 214,
     "metadata": {},
     "output_type": "execute_result"
    }
   ],
   "source": [
    "locs,classes_scores = boundingBox_Location_Class_Predictions(x,vgg16)"
   ]
  },
  {
   "cell_type": "code",
   "execution_count": 215,
   "metadata": {},
   "outputs": [
    {
     "data": {
      "text/plain": [
       "(8732, 4, 1)"
      ]
     },
     "execution_count": 215,
     "metadata": {},
     "output_type": "execute_result"
    }
   ],
   "source": [
    "size(locs)"
   ]
  },
  {
   "cell_type": "code",
   "execution_count": 216,
   "metadata": {},
   "outputs": [
    {
     "data": {
      "text/plain": [
       "(8732, 21, 1)"
      ]
     },
     "execution_count": 216,
     "metadata": {},
     "output_type": "execute_result"
    }
   ],
   "source": [
    "size(classes_scores)"
   ]
  },
  {
   "cell_type": "code",
   "execution_count": 251,
   "metadata": {},
   "outputs": [
    {
     "data": {
      "text/plain": [
       "OrderedDict{String,Array{Float64,1}} with 6 entries:\n",
       "  \"conv4_3\"  => [1.0, 2.0, 0.5]\n",
       "  \"conv7\"    => [1.0, 2.0, 3.0, 0.5, 0.333]\n",
       "  \"conv8_2\"  => [1.0, 2.0, 3.0, 0.5, 0.333]\n",
       "  \"conv9_2\"  => [1.0, 2.0, 3.0, 0.5, 0.333]\n",
       "  \"conv10_2\" => [1.0, 2.0, 0.5]\n",
       "  \"conv11_2\" => [1.0, 2.0, 0.5]"
      ]
     },
     "execution_count": 251,
     "metadata": {},
     "output_type": "execute_result"
    }
   ],
   "source": [
    "fmap_dims = OrderedDict(\n",
    "    \"conv4_3\" => 38,\n",
    "    \"conv7\" => 19,\n",
    "    \"conv8_2\" => 10,\n",
    "    \"conv9_2\" => 5,\n",
    "    \"conv10_2\" => 3,\n",
    "    \"conv11_2\" => 1)\n",
    "\n",
    "#Scales calculated as smin + ((Smax -Smin)/ m-1)*(k-1) where smin = 0.2 smax = 0.9 \n",
    "#k in the range [1,m] where m-> number of feature maps\n",
    "#\n",
    "obj_scales = OrderedDict(\n",
    "    \"conv4_3\" => 0.1,\n",
    "    \"conv7\" => 0.2,\n",
    "    \"conv8_2\" => 0.375,\n",
    "    \"conv9_2\" => 0.55,\n",
    "    \"conv10_2\" => 0.725,\n",
    "    \"conv11_2\" => 0.9)\n",
    "\n",
    "#Predefined by authors\n",
    "aspect_ratios = OrderedDict(\n",
    "    \"conv4_3\" => [1., 2., 0.5],\n",
    "    \"conv7\" => [1., 2., 3., 0.5, .333],\n",
    "    \"conv8_2\" => [1., 2., 3., 0.5, .333],\n",
    "    \"conv9_2\" => [1., 2., 3., 0.5, .333],\n",
    "    \"conv10_2\" => [1., 2., 0.5],\n",
    "    \"conv11_2\" => [1., 2., 0.5])\n"
   ]
  },
  {
   "cell_type": "code",
   "execution_count": 273,
   "metadata": {},
   "outputs": [
    {
     "data": {
      "text/plain": [
       "create_prior_boxes (generic function with 1 method)"
      ]
     },
     "execution_count": 273,
     "metadata": {},
     "output_type": "execute_result"
    }
   ],
   "source": [
    "function create_prior_boxes()\n",
    "    fmaps =keys(fmap_dims)\n",
    "    prior_boxes = []\n",
    "    additional_scale = 1\n",
    "    for (k, fmap) in enumerate(fmaps) #\"conv4_3\" conv7\"\"conv8_2\" ,\"conv9_2\" \"conv10_2\" \"conv11_2\"\n",
    "        for i in 1:fmap_dims[fmap]\n",
    "            for j in 1:fmap_dims[fmap]\n",
    "                cx = (j + 0.5) / fmap_dims[fmap]\n",
    "                cy = (i + 0.5) / fmap_dims[fmap]\n",
    "                \n",
    "                for ratio in aspect_ratios[fmap]\n",
    "                    push!(prior_boxes, [cx, cy, obj_scales[fmap] * sqrt(ratio), obj_scales[fmap] / sqrt(ratio)])\n",
    "                    \n",
    "                    if ratio==1\n",
    "                        try\n",
    "                        additional_scale = sqrt(obj_scales[fmap] * obj_scales[fmaps[k + 1]])\n",
    "                        catch\n",
    "                            additional_scale = 1\n",
    "                        end\n",
    "                        push!(prior_boxes,[cx, cy, additional_scale, additional_scale])\n",
    "                    end\n",
    "                end\n",
    "            end\n",
    "        end\n",
    "    end\n",
    "    #prior_boxes = KnetArray(prior_boxes) # (8732, 4)\n",
    "    prior_boxes = KnetArray(permutedims(hcat(prior_boxes...),(2,1)))\n",
    "    return prior_boxes                               \n",
    "    \n",
    "end"
   ]
  },
  {
   "cell_type": "code",
   "execution_count": 274,
   "metadata": {},
   "outputs": [
    {
     "data": {
      "text/plain": [
       "8732×4 KnetArray{Float64,2}:\n",
       " 0.0394737  0.0394737  0.1        0.1\n",
       " 0.0394737  0.0394737  1.0        1.0\n",
       " 0.0394737  0.0394737  0.141421   0.0707107\n",
       " 0.0394737  0.0394737  0.0707107  0.141421\n",
       " 0.0657895  0.0394737  0.1        0.1\n",
       " 0.0657895  0.0394737  1.0        1.0\n",
       " 0.0657895  0.0394737  0.141421   0.0707107\n",
       " 0.0657895  0.0394737  0.0707107  0.141421\n",
       " 0.0921053  0.0394737  0.1        0.1\n",
       " 0.0921053  0.0394737  1.0        1.0\n",
       " 0.0921053  0.0394737  0.141421   0.0707107\n",
       " 0.0921053  0.0394737  0.0707107  0.141421\n",
       " 0.118421   0.0394737  0.1        0.1\n",
       " ⋮                                \n",
       " 0.833333   1.16667    0.725      0.725\n",
       " 0.833333   1.16667    1.0        1.0\n",
       " 0.833333   1.16667    1.0253     0.512652\n",
       " 0.833333   1.16667    0.512652   1.0253\n",
       " 1.16667    1.16667    0.725      0.725\n",
       " 1.16667    1.16667    1.0        1.0\n",
       " 1.16667    1.16667    1.0253     0.512652\n",
       " 1.16667    1.16667    0.512652   1.0253\n",
       " 1.5        1.5        0.9        0.9\n",
       " 1.5        1.5        1.0        1.0\n",
       " 1.5        1.5        1.27279    0.636396\n",
       " 1.5        1.5        0.636396   1.27279"
      ]
     },
     "execution_count": 274,
     "metadata": {},
     "output_type": "execute_result"
    }
   ],
   "source": [
    "pb = create_prior_boxes()"
   ]
  },
  {
   "cell_type": "code",
   "execution_count": 282,
   "metadata": {},
   "outputs": [
    {
     "data": {
      "text/plain": [
       "KnetArray"
      ]
     },
     "execution_count": 282,
     "metadata": {},
     "output_type": "execute_result"
    }
   ],
   "source": [
    "function KnetArray(x::CuArray{T,N}) where {T,N}\n",
    "    p = Base.bitcast(Cptr, pointer(x))\n",
    "    k = KnetPtr(p, sizeof(x), Int(CUDA.device().handle), x)\n",
    "    KnetArray{T,N}(k, size(x))\n",
    "end"
   ]
  },
  {
   "cell_type": "code",
   "execution_count": null,
   "metadata": {},
   "outputs": [],
   "source": [
    "# Next work ---> Matching \n",
    "function detect_object( )\n",
    "   \n",
    "    \n",
    "    \n",
    "end"
   ]
  },
  {
   "cell_type": "code",
   "execution_count": null,
   "metadata": {},
   "outputs": [],
   "source": []
  },
  {
   "cell_type": "code",
   "execution_count": null,
   "metadata": {},
   "outputs": [],
   "source": []
  },
  {
   "cell_type": "code",
   "execution_count": null,
   "metadata": {},
   "outputs": [],
   "source": []
  },
  {
   "cell_type": "code",
   "execution_count": null,
   "metadata": {},
   "outputs": [],
   "source": []
  },
  {
   "cell_type": "code",
   "execution_count": null,
   "metadata": {},
   "outputs": [],
   "source": []
  },
  {
   "cell_type": "code",
   "execution_count": null,
   "metadata": {},
   "outputs": [],
   "source": []
  },
  {
   "cell_type": "code",
   "execution_count": null,
   "metadata": {},
   "outputs": [],
   "source": []
  }
 ],
 "metadata": {
  "kernelspec": {
   "display_name": "Julia 1.5.3",
   "language": "julia",
   "name": "julia-1.5"
  },
  "language_info": {
   "file_extension": ".jl",
   "mimetype": "application/julia",
   "name": "julia",
   "version": "1.5.3"
  }
 },
 "nbformat": 4,
 "nbformat_minor": 2
}
